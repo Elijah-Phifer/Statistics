{
  "nbformat": 4,
  "nbformat_minor": 0,
  "metadata": {
    "colab": {
      "provenance": [],
      "authorship_tag": "ABX9TyMp5pa+s8JlA5udurdKxf+S",
      "include_colab_link": true
    },
    "kernelspec": {
      "name": "python3",
      "display_name": "Python 3"
    },
    "language_info": {
      "name": "python"
    }
  },
  "cells": [
    {
      "cell_type": "markdown",
      "metadata": {
        "id": "view-in-github",
        "colab_type": "text"
      },
      "source": [
        "<a href=\"https://colab.research.google.com/github/Elijah-Phifer/Statistics/blob/main/Average.ipynb\" target=\"_parent\"><img src=\"https://colab.research.google.com/assets/colab-badge.svg\" alt=\"Open In Colab\"/></a>"
      ]
    },
    {
      "cell_type": "code",
      "execution_count": 2,
      "metadata": {
        "colab": {
          "base_uri": "https://localhost:8080/"
        },
        "id": "XYMgz1ODIkmD",
        "outputId": "960a2dc7-1a24-40a5-dce9-85a701e7374b"
      },
      "outputs": [
        {
          "output_type": "stream",
          "name": "stdout",
          "text": [
            "3.0\n"
          ]
        }
      ],
      "source": [
        "def average(values):\n",
        "  sum = 0\n",
        "  for value in values:\n",
        "    sum += value\n",
        "\n",
        "  return sum / len(values)\n",
        "\n",
        "\n",
        "print(average([1, 2, 3, 4, 5]))"
      ]
    }
  ]
}