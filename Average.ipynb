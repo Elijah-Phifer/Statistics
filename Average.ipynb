{
  "nbformat": 4,
  "nbformat_minor": 0,
  "metadata": {
    "colab": {
      "provenance": [],
      "authorship_tag": "ABX9TyPTb5n/D/yYQLigg++WwKJe",
      "include_colab_link": true
    },
    "kernelspec": {
      "name": "python3",
      "display_name": "Python 3"
    },
    "language_info": {
      "name": "python"
    }
  },
  "cells": [
    {
      "cell_type": "markdown",
      "metadata": {
        "id": "view-in-github",
        "colab_type": "text"
      },
      "source": [
        "<a href=\"https://colab.research.google.com/github/Elijah-Phifer/Statistics/blob/main/Average.ipynb\" target=\"_parent\"><img src=\"https://colab.research.google.com/assets/colab-badge.svg\" alt=\"Open In Colab\"/></a>"
      ]
    },
    {
      "cell_type": "code",
      "execution_count": 1,
      "metadata": {
        "colab": {
          "base_uri": "https://localhost:8080/"
        },
        "id": "XYMgz1ODIkmD",
        "outputId": "d6da364e-0d7f-4c4c-e4fc-1e162de1031a"
      },
      "outputs": [
        {
          "output_type": "stream",
          "name": "stdout",
          "text": [
            "Here's your average\n",
            "3.0\n"
          ]
        }
      ],
      "source": [
        "def average(values):\n",
        "  sum = 0\n",
        "  for value in values:\n",
        "    sum += value\n",
        "\n",
        "  return sum / len(values)\n",
        "\n",
        "print(\"Here's your average\")\n",
        "print(average([1, 2, 3, 4, 5]))"
      ]
    }
  ]
}